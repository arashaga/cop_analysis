{
 "cells": [
  {
   "cell_type": "code",
   "execution_count": 1,
   "metadata": {
    "collapsed": true
   },
   "outputs": [],
   "source": [
    "from xlrd import open_workbook"
   ]
  },
  {
   "cell_type": "code",
   "execution_count": 99,
   "metadata": {
    "collapsed": false
   },
   "outputs": [
    {
     "name": "stdout",
     "output_type": "stream",
     "text": [
      "Proj_info\n",
      "26 5\n",
      "[41569.0, u'1R', u'San Pedro High School', u'Robert Jensen', 817.5, 3272.9, 3988.03, 203.59, 1471.5, 0, 0]\n"
     ]
    }
   ],
   "source": [
    "import csv\n",
    "filename = 'test.csv'\n",
    "values = []\n",
    "\n",
    "header =['School Name','COP Number', 'Date', 'Project Number']\n",
    "submname = []\n",
    "wb = open_workbook('COP/San Pedro HS - COP 1R.xls')\n",
    "with open('names.csv', 'w') as csvfile:\n",
    "\n",
    "\n",
    "\n",
    "    #for s in wb.sheets():\\n\",\n",
    "    #print 'Sheet:',s.name\\n\",\n",
    "    sheet = wb.sheet_by_name('Proj_info')\n",
    "    print sheet.name\n",
    "    print sheet.nrows, sheet.ncols\n",
    "    for row in range(0,sheet.nrows):\n",
    "        for col in range(0,sheet.ncols):\n",
    "            \n",
    "            ######TEST####\n",
    "            #col_names = sheet.row(0)\n",
    "            #print sheet.cell(row,col).value\n",
    "            #######TEST####\n",
    "            \n",
    "            # write the headers comma separated in a file\\n\",\n",
    "            if (sheet.cell(row,col).value == 'School Name:'):\n",
    "                sname = sheet.cell(row,col+1).value\n",
    "                values.append(sname)\n",
    "            ##FIX THIS ERROR\n",
    "            #elif(sheet.cell(row,col).value == u'Date' | sheet.cell(row,col).value == 'Date:'):\n",
    "            elif(sheet.cell(row,col).value == 'Date'):\n",
    "                date = sheet.cell(row,col+1).value\n",
    "                values.append(date)\n",
    "            elif(sheet.cell(row,col).value == 'COP Number:'):\n",
    "                cop_number = sheet.cell(row,col+1).value\n",
    "                values.append(cop_number)\n",
    "            elif(sheet.cell(row,col).value == 'OAR:'):\n",
    "                oar = sheet.cell(row,col+1).value\n",
    "                values.append(oar)\n",
    "            elif(sheet.cell(row,col).value == 'Subcontractor 1:'):\n",
    "                sub1 = sheet.cell(row,col+4).value if isinstance(sheet.cell(row,col+4).value,float) else 0\n",
    "                submname.append(sheet.cell(row,col+1).value)\n",
    "                values.append(sub1)\n",
    "            elif(sheet.cell(row,col).value == 'Subcontractor 2:'):\n",
    "                sub1 = sheet.cell(row,col+4).value if isinstance(sheet.cell(row,col+4).value,float) else 0\n",
    "                submname.append(sheet.cell(row,col+1).value)\n",
    "                values.append(sub1)\n",
    "            elif(sheet.cell(row,col).value == 'Subcontractor 3:'):\n",
    "                sub1 = sheet.cell(row,col+4).value if isinstance(sheet.cell(row,col+4).value,float) else 0\n",
    "                submname.append(sheet.cell(row,col+1).value)\n",
    "                values.append(sub1)\n",
    "            elif(sheet.cell(row,col).value == 'Subcontractor 4:'):\n",
    "                sub1 = sheet.cell(row,col+4).value if isinstance(sheet.cell(row,col+4).value,float) else 0\n",
    "                submname.append(sheet.cell(row,col+1).value)\n",
    "                values.append(sub1)\n",
    "            elif(sheet.cell(row,col).value == 'Subcontractor 5:'):\n",
    "                sub1 = sheet.cell(row,col+4).value if isinstance(sheet.cell(row,col+4).value,float) else 0\n",
    "                submname.append(sheet.cell(row,col+1).value)\n",
    "                values.append(sub1)\n",
    "            elif(sheet.cell(row,col).value == 'Subcontractor 6:'):\n",
    "                sub1 = sheet.cell(row,col+4).value if isinstance(sheet.cell(row,col+4).value,float) else 0\n",
    "                submname.append(sheet.cell(row,col+1).value)\n",
    "                values.append(sub1)\n",
    "            elif(sheet.cell(row,col).value == 'Subcontractor 7:'):\n",
    "                sub1 = sheet.cell(row,col+4).value if isinstance(sheet.cell(row,col+4).value,float) else 0\n",
    "                submname.append(sheet.cell(row,col+1).value)\n",
    "                values.append(sub1)\n",
    "            else:\n",
    "                pass\n",
    "    \n",
    "    header = header + submname\n",
    "    writer = csv.DictWriter(csvfile, fieldnames=header)\n",
    "    writer.writeheader()\n",
    "    results= dict(zip(header, values))\n",
    "    writer.writerow(results)\n",
    "    \n",
    "#value  = (s.cell(row,col).value)\\n\",\n",
    "#try : date = str(int(date))\\n\",\n",
    "#except : pass\\n\",\n",
    "\n",
    "print values"
   ]
  },
  {
   "cell_type": "code",
   "execution_count": 51,
   "metadata": {
    "collapsed": false
   },
   "outputs": [],
   "source": [
    "import csv\n",
    "\n",
    "with open('names.csv', 'w') as csvfile:\n",
    "    fieldnames = ['first_name', 'last_name']\n",
    "    writer = csv.DictWriter(csvfile, fieldnames=fieldnames)\n",
    "\n",
    "    writer.writeheader()\n",
    "    writer.writerow({'first_name': 'Baked', 'last_name': 'Beans'})\n",
    "    writer.writerow({'first_name': 'Lovely', 'last_name': 'Spam'})\n",
    "    writer.writerow({'first_name': 'Wonderful', 'last_name': 'Spam'})\n"
   ]
  },
  {
   "cell_type": "code",
   "execution_count": null,
   "metadata": {
    "collapsed": true
   },
   "outputs": [],
   "source": [
    "import csv\n",
    "with open('some.csv', 'w', newline='') as f:\n",
    "    writer = csv.writer(f)\n",
    "    writer.writerows(someiterable)"
   ]
  },
  {
   "cell_type": "code",
   "execution_count": 39,
   "metadata": {
    "collapsed": false
   },
   "outputs": [
    {
     "data": {
      "text/plain": [
       "\"['San Pedro HS - COP 11.xls', 'San Pedro HS - COP 13.1.xls', 'San Pedro HS - COP 14.xls', 'San Pedro HS - COP 15.xls', 'San Pedro HS - COP 17.xls', 'San Pedro HS - COP 18.xls', 'San Pedro HS - COP 19.xls', 'San Pedro HS - COP 1R.xls', 'San Pedro HS - COP 2.xls', 'San Pedro HS - COP 20.xls', 'San Pedro HS - COP 22.xls', 'San Pedro HS - COP 33.xls', 'San Pedro HS - COP 4.xls', 'San Pedro HS - COP 40.1.xls', 'San Pedro HS - COP 40.2.xls', 'San Pedro HS - COP 40.xls', 'San Pedro HS - COP 59.xls', 'San Pedro HS - COP 62 (1).xls', 'San Pedro HS - COP 63.xls', 'San Pedro HS - COP 66.xls', 'San Pedro HS - COP 6R1.xls', 'San Pedro HS - COP 70--.xls', 'San Pedro HS - COP 71.xls', 'San Pedro HS - COP 73.xls', 'San Pedro HS - COP 74.xls', 'San Pedro HS - COP 75.1.xls', 'San Pedro HS - COP 75.xls', 'San Pedro HS - COP 76.xls', 'San Pedro HS - COP 77.xls', 'San Pedro HS - COP 78.xls', 'San Pedro HS - COP 79.xls', 'San Pedro HS - COP 8.xls', 'San Pedro HS - COP 80.xls', 'San Pedro HS - COP 81.xls', 'San Pedro HS - COP 9.xls']\""
      ]
     },
     "execution_count": 39,
     "metadata": {},
     "output_type": "execute_result"
    }
   ],
   "source": [
    "### read all the files in the path\n",
    "\n",
    "from os import listdir\n",
    "from os.path import isfile, join\n",
    "mypath = './COP'\n",
    "onlyfiles = [f for f in listdir(mypath) if isfile(join(mypath, f))]\n",
    "str(onlyfiles)"
   ]
  },
  {
   "cell_type": "code",
   "execution_count": null,
   "metadata": {
    "collapsed": true
   },
   "outputs": [],
   "source": []
  }
 ],
 "metadata": {
  "kernelspec": {
   "display_name": "Python 2",
   "language": "python",
   "name": "python2"
  },
  "language_info": {
   "codemirror_mode": {
    "name": "ipython",
    "version": 2
   },
   "file_extension": ".py",
   "mimetype": "text/x-python",
   "name": "python",
   "nbconvert_exporter": "python",
   "pygments_lexer": "ipython2",
   "version": "2.7.11"
  }
 },
 "nbformat": 4,
 "nbformat_minor": 0
}
