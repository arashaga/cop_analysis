{
 "cells": [
  {
   "cell_type": "code",
   "execution_count": 1,
   "metadata": {
    "collapsed": true
   },
   "outputs": [],
   "source": [
    "from xlrd import open_workbook"
   ]
  },
  {
   "cell_type": "code",
   "execution_count": 23,
   "metadata": {
    "collapsed": false
   },
   "outputs": [
    {
     "name": "stdout",
     "output_type": "stream",
     "text": [
      "Proj_info\n",
      "[(u'Project Information sheet', u'1R')]\n"
     ]
    }
   ],
   "source": [
    "filename = 'test.csv'  \n",
    "target = open(filename, 'w')\n",
    "header ='COP Number, Date, School Name, Project Number '\n",
    "target.write(header)\n",
    "target.write('\\n')\n",
    "wb = open_workbook('COP/San Pedro HS - COP 1R.xls')\n",
    "values = []\n",
    "date = []\n",
    "#for s in wb.sheets():\n",
    "    #print 'Sheet:',s.name\n",
    "sheet = wb.sheet_by_name('Proj_info')\n",
    "print sheet.name\n",
    "for row in range(1, sheet.nrows):\n",
    "    col_names = sheet.row(0)\n",
    "        # write the headers comma separated in a file\n",
    "\n",
    "        \n",
    "    for name, col in zip(col_names, range(sheet.ncols)):\n",
    "        if (sheet.cell(row,col).value == 'COP Number:' OR):\n",
    "            date = sheet.cell(row,col+1).value\n",
    "            target.write(name.value)\n",
    "            target.write(',')\n",
    "            target.write(date)\n",
    "            values.append((name.value, date))\n",
    "            break\n",
    "            #value  = (s.cell(row,col).value)\n",
    "            #try : date = str(int(date))\n",
    "            #except : pass\n",
    "            \n",
    "target.close()       \n",
    "print values"
   ]
  },
  {
   "cell_type": "code",
   "execution_count": 24,
   "metadata": {
    "collapsed": false
   },
   "outputs": [
    {
     "ename": "ValueError",
     "evalue": "too many values to unpack",
     "output_type": "error",
     "traceback": [
      "\u001b[0;31m---------------------------------------------------------------------------\u001b[0m",
      "\u001b[0;31mValueError\u001b[0m                                Traceback (most recent call last)",
      "\u001b[0;32m<ipython-input-24-d47f2dea291f>\u001b[0m in \u001b[0;36m<module>\u001b[0;34m()\u001b[0m\n\u001b[1;32m      1\u001b[0m \u001b[0;32mfrom\u001b[0m \u001b[0msys\u001b[0m \u001b[0;32mimport\u001b[0m \u001b[0margv\u001b[0m\u001b[0;34m\u001b[0m\u001b[0m\n\u001b[1;32m      2\u001b[0m \u001b[0;34m\u001b[0m\u001b[0m\n\u001b[0;32m----> 3\u001b[0;31m \u001b[0mscript\u001b[0m\u001b[0;34m,\u001b[0m \u001b[0muser_name\u001b[0m \u001b[0;34m=\u001b[0m \u001b[0margv\u001b[0m\u001b[0;34m\u001b[0m\u001b[0m\n\u001b[0m\u001b[1;32m      4\u001b[0m \u001b[0mprompt\u001b[0m \u001b[0;34m=\u001b[0m \u001b[0;34m'> '\u001b[0m\u001b[0;34m\u001b[0m\u001b[0m\n\u001b[1;32m      5\u001b[0m \u001b[0;34m\u001b[0m\u001b[0m\n",
      "\u001b[0;31mValueError\u001b[0m: too many values to unpack"
     ]
    }
   ],
   "source": []
  },
  {
   "cell_type": "code",
   "execution_count": null,
   "metadata": {
    "collapsed": true
   },
   "outputs": [],
   "source": []
  }
 ],
 "metadata": {
  "kernelspec": {
   "display_name": "Python 2",
   "language": "python",
   "name": "python2"
  },
  "language_info": {
   "codemirror_mode": {
    "name": "ipython",
    "version": 2
   },
   "file_extension": ".py",
   "mimetype": "text/x-python",
   "name": "python",
   "nbconvert_exporter": "python",
   "pygments_lexer": "ipython2",
   "version": "2.7.11"
  }
 },
 "nbformat": 4,
 "nbformat_minor": 0
}
