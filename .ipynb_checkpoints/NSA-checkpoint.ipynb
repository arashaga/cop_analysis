{
 "cells": [
  {
   "cell_type": "code",
   "execution_count": 1,
   "metadata": {
    "collapsed": true
   },
   "outputs": [],
   "source": [
    "from xlrd import open_workbook"
   ]
  },
  {
   "cell_type": "code",
   "execution_count": 53,
   "metadata": {
    "collapsed": false
   },
   "outputs": [
    {
     "name": "stdout",
     "output_type": "stream",
     "text": [
      "[]\n"
     ]
    }
   ],
   "source": [
    "import csv\n",
    "filename = 'test.csv'\n",
    "values = []\n",
    "date = []\n",
    "\n",
    "header ='COP Number, Date, School Name, Project Number '\n",
    "\n",
    "wb = open_workbook('COP/San Pedro HS - COP 1R.xls')\n",
    "with open('names.csv', 'w') as csvfile:\n",
    "     writer = csv.DictWriter(csvfile, fieldnames=header)\n",
    "\n",
    "\n",
    "    #for s in wb.sheets():\\n\",\n",
    "    #print 'Sheet:',s.name\\n\",\n",
    "     sheet = wb.sheet_by_name('Proj_info')\n",
    "    #print sheet.name\n",
    "     for row, col in zip(range(0,sheet.nrows),range(0, sheet.ncols)):\n",
    "        #col_names = sheet.row(0)\n",
    "        # write the headers comma separated in a file\\n\",\n",
    "        if (sheet.cell(row,col).value == 'Date'):\n",
    "            date = sheet.cell(row,col+1).value\n",
    "            values.append(date)\n",
    "            writer.writerow({'Date': date})\n",
    "            break\n",
    "#value  = (s.cell(row,col).value)\\n\",\n",
    "#try : date = str(int(date))\\n\",\n",
    "#except : pass\\n\",\n",
    "\n",
    "print values"
   ]
  },
  {
   "cell_type": "code",
   "execution_count": 51,
   "metadata": {
    "collapsed": false
   },
   "outputs": [],
   "source": [
    "import csv\n",
    "\n",
    "with open('names.csv', 'w') as csvfile:\n",
    "    fieldnames = ['first_name', 'last_name']\n",
    "    writer = csv.DictWriter(csvfile, fieldnames=fieldnames)\n",
    "\n",
    "    writer.writeheader()\n",
    "    writer.writerow({'first_name': 'Baked', 'last_name': 'Beans'})\n",
    "    writer.writerow({'first_name': 'Lovely', 'last_name': 'Spam'})\n",
    "    writer.writerow({'first_name': 'Wonderful', 'last_name': 'Spam'})\n"
   ]
  },
  {
   "cell_type": "code",
   "execution_count": null,
   "metadata": {
    "collapsed": true
   },
   "outputs": [],
   "source": [
    "import csv\n",
    "with open('some.csv', 'w', newline='') as f:\n",
    "    writer = csv.writer(f)\n",
    "    writer.writerows(someiterable)"
   ]
  },
  {
   "cell_type": "code",
   "execution_count": 39,
   "metadata": {
    "collapsed": false
   },
   "outputs": [
    {
     "data": {
      "text/plain": [
       "\"['San Pedro HS - COP 11.xls', 'San Pedro HS - COP 13.1.xls', 'San Pedro HS - COP 14.xls', 'San Pedro HS - COP 15.xls', 'San Pedro HS - COP 17.xls', 'San Pedro HS - COP 18.xls', 'San Pedro HS - COP 19.xls', 'San Pedro HS - COP 1R.xls', 'San Pedro HS - COP 2.xls', 'San Pedro HS - COP 20.xls', 'San Pedro HS - COP 22.xls', 'San Pedro HS - COP 33.xls', 'San Pedro HS - COP 4.xls', 'San Pedro HS - COP 40.1.xls', 'San Pedro HS - COP 40.2.xls', 'San Pedro HS - COP 40.xls', 'San Pedro HS - COP 59.xls', 'San Pedro HS - COP 62 (1).xls', 'San Pedro HS - COP 63.xls', 'San Pedro HS - COP 66.xls', 'San Pedro HS - COP 6R1.xls', 'San Pedro HS - COP 70--.xls', 'San Pedro HS - COP 71.xls', 'San Pedro HS - COP 73.xls', 'San Pedro HS - COP 74.xls', 'San Pedro HS - COP 75.1.xls', 'San Pedro HS - COP 75.xls', 'San Pedro HS - COP 76.xls', 'San Pedro HS - COP 77.xls', 'San Pedro HS - COP 78.xls', 'San Pedro HS - COP 79.xls', 'San Pedro HS - COP 8.xls', 'San Pedro HS - COP 80.xls', 'San Pedro HS - COP 81.xls', 'San Pedro HS - COP 9.xls']\""
      ]
     },
     "execution_count": 39,
     "metadata": {},
     "output_type": "execute_result"
    }
   ],
   "source": [
    "### read all the files in the path\n",
    "\n",
    "from os import listdir\n",
    "from os.path import isfile, join\n",
    "mypath = './COP'\n",
    "onlyfiles = [f for f in listdir(mypath) if isfile(join(mypath, f))]\n",
    "str(onlyfiles)"
   ]
  },
  {
   "cell_type": "code",
   "execution_count": null,
   "metadata": {
    "collapsed": true
   },
   "outputs": [],
   "source": []
  }
 ],
 "metadata": {
  "kernelspec": {
   "display_name": "Python 2",
   "language": "python",
   "name": "python2"
  },
  "language_info": {
   "codemirror_mode": {
    "name": "ipython",
    "version": 2
   },
   "file_extension": ".py",
   "mimetype": "text/x-python",
   "name": "python",
   "nbconvert_exporter": "python",
   "pygments_lexer": "ipython2",
   "version": "2.7.11"
  }
 },
 "nbformat": 4,
 "nbformat_minor": 0
}
